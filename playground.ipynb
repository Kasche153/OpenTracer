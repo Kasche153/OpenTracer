{
 "cells": [
  {
   "cell_type": "code",
   "execution_count": 1,
   "metadata": {},
   "outputs": [
    {
     "data": {
      "text/plain": [
       "'[Meta Info]  TxHash: 0x0a1abf7620d6fca54f5d6818960438695ef1ab7732b3a58a57fc7347d87da527   tx.origin: 0x365e6e422f4b682586ee34b061cb1e38ffda7968\\n'"
      ]
     },
     "execution_count": 1,
     "metadata": {},
     "output_type": "execute_result"
    }
   ],
   "source": [
    "from parserPackage import parser\n",
    "from parserPackage.traceTree import TraceTree\n",
    "from main import storeATrace, readATrace, storeATrace2\n",
    "\n",
    "txHash = \"0x0a1abf7620d6fca54f5d6818960438695ef1ab7732b3a58a57fc7347d87da527\"\n",
    "vmparser = parser.VmtraceParser()\n",
    "vmparser.printStack()\n",
    "\n",
    "globalState = vmparser.setupGlobalState(txHash)\n",
    "\n",
    "status, origin = vmparser.setupGlobalState(txHash)\n",
    "metaData = {\"meta\": True, \"txHash\": txHash, \"status\": status, \"origin\": origin}\n",
    "   \n",
    "metaTraceTree = TraceTree(metaData) \n",
    "\n",
    "metaTraceTree.visualizeASE()\n"
   ]
  },
  {
   "cell_type": "code",
   "execution_count": 2,
   "metadata": {},
   "outputs": [
    {
     "name": "stdout",
     "output_type": "stream",
     "text": [
      "0x0a1abf7620d6fca54f5d6818960438695ef1ab7732b3a58a57fc7347d87da527\n",
      "Tx 0x0a fetch trace costs 3.438339948654175 s\n",
      "Tx 0x0a cooking trace costs 0.06387901306152344 s\n"
     ]
    }
   ],
   "source": [
    "storeATrace2(txHash)\n",
    "# temp = readATrace(txHash)\n",
    "# print(f\"{temp}\")\n",
    "# metaTraceTree.decodeABIStorage(temp[\"structLogs\"])\n",
    "# print(metaTraceTree.visualizeASE_decoded())\n",
    "\n"
   ]
  }
 ],
 "metadata": {
  "kernelspec": {
   "display_name": "Python 3 (ipykernel)",
   "language": "python",
   "name": "python3"
  },
  "language_info": {
   "codemirror_mode": {
    "name": "ipython",
    "version": 3
   },
   "file_extension": ".py",
   "mimetype": "text/x-python",
   "name": "python",
   "nbconvert_exporter": "python",
   "pygments_lexer": "ipython3",
   "version": "3.10.4"
  }
 },
 "nbformat": 4,
 "nbformat_minor": 2
}
