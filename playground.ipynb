{
 "cells": [
  {
   "cell_type": "code",
   "execution_count": null,
   "metadata": {},
   "outputs": [],
   "source": [
    "!pip install --user slither-analyzer"
   ]
  },
  {
   "cell_type": "code",
   "execution_count": 7,
   "metadata": {},
   "outputs": [
    {
     "name": "stdout",
     "output_type": "stream",
     "text": [
      "{'meta': True, 'txHash': '0x0a1abf7620d6fca54f5d6818960438695ef1ab7732b3a58a57fc7347d87da527', 'status': 2, 'origin': '0x365e6e422f4b682586ee34b061cb1e38ffda7968'}\n",
      "\n"
     ]
    },
    {
     "data": {
      "text/plain": [
       "'[Meta Info]  TxHash: 0x0a1abf7620d6fca54f5d6818960438695ef1ab7732b3a58a57fc7347d87da527   tx.origin: 0x365e6e422f4b682586ee34b061cb1e38ffda7968\\n'"
      ]
     },
     "execution_count": 7,
     "metadata": {},
     "output_type": "execute_result"
    }
   ],
   "source": [
    "from parserPackage import parser\n",
    "from parserPackage.traceTree import TraceTree\n",
    "from main import storeATrace, readATrace, storeATrace2\n",
    "\n",
    "txHash = \"0x0a1abf7620d6fca54f5d6818960438695ef1ab7732b3a58a57fc7347d87da527\"\n",
    "vmparser = parser.VmtraceParser()\n",
    "vmparser.printStack()\n",
    "\n",
    "globalState = vmparser.setupGlobalState(txHash)\n",
    "\n",
    "status, origin = vmparser.setupGlobalState(txHash)\n",
    "metaData = {\"meta\": True, \"txHash\": txHash, \"status\": status, \"origin\": origin}\n",
    "   \n",
    "metaTraceTree = TraceTree(metaData) \n",
    "metaTraceTree.visualizeASE()\n"
   ]
  },
  {
   "cell_type": "code",
   "execution_count": null,
   "metadata": {},
   "outputs": [],
   "source": [
    "storeATrace2(txHash)\n",
    "# temp = readATrace(txHash)\n",
    "# print(f\"{temp}\")\n",
    "# metaTraceTree.decodeABIStorage(temp[\"structLogs\"])\n",
    "# print(metaTraceTree.visualizeASE_decoded())\n",
    "\n"
   ]
  },
  {
   "cell_type": "markdown",
   "metadata": {},
   "source": [
    "## Adding nodes manually to the TraceTree \n",
    "Haven't properly tested this though"
   ]
  },
  {
   "cell_type": "code",
   "execution_count": 8,
   "metadata": {},
   "outputs": [
    {
     "name": "stdout",
     "output_type": "stream",
     "text": [
      "{'type': 'transaction', 'from': '0x...', 'to': '0x...', 'value': 100}\n",
      "  {'type': 'call', 'from': '0x...', 'to': '0x...', 'value': 50}\n",
      "\n"
     ]
    }
   ],
   "source": [
    "# Assuming you have parsed a transaction trace and extracted relevant information\n",
    "root_info = {\"type\": \"transaction\", \"from\": \"0x...\", \"to\": \"0x...\", \"value\": 100}\n",
    "root_trace_tree = TraceTree(root_info)\n",
    "\n",
    "# Example of an internal call\n",
    "internal_call_info = {\"type\": \"call\", \"from\": \"0x...\", \"to\": \"0x...\", \"value\": 50}\n",
    "internal_trace_tree = TraceTree(internal_call_info)\n",
    "\n",
    "# Add the internal call to the root trace tree\n",
    "root_trace_tree.addInternalCall(internal_trace_tree, depth=1)\n",
    "\n",
    "# Now, printing the root_trace_tree should show a hierarchical structure\n",
    "print(root_trace_tree)"
   ]
  },
  {
   "cell_type": "markdown",
   "metadata": {},
   "source": [
    "## Analyzing transaction and getting a TraceTree from it"
   ]
  },
  {
   "cell_type": "code",
   "execution_count": 19,
   "metadata": {},
   "outputs": [
    {
     "name": "stdout",
     "output_type": "stream",
     "text": [
      "{'pc': 0, 'op': 'PUSH1', 'gas': 71545, 'depth': 1, 'stack': []}\n",
      "{'pc': 2, 'op': 'PUSH1', 'gas': 71542, 'depth': 1, 'stack': ['0x80']}\n",
      "{'pc': 4, 'op': 'MSTORE', 'gas': 71539, 'depth': 1, 'stack': ['0x80', '0x40']}\n",
      "{'pc': 5, 'op': 'PUSH1', 'gas': 71527, 'depth': 1, 'stack': []}\n",
      "{'pc': 7, 'op': 'CALLDATASIZE', 'gas': 71524, 'depth': 1, 'stack': ['0x4']}\n",
      "{'pc': 8, 'op': 'LT', 'gas': 71522, 'depth': 1, 'stack': ['0x4', '0x44']}\n",
      "{'pc': 9, 'op': 'PUSH2', 'gas': 71519, 'depth': 1, 'stack': ['0x0']}\n",
      "{'pc': 12, 'op': 'JUMPI', 'gas': 71516, 'depth': 1, 'stack': ['0x0', '0x77']}\n",
      "{'pc': 13, 'op': 'PUSH4', 'gas': 71506, 'depth': 1, 'stack': []}\n",
      "{'pc': 18, 'op': 'PUSH29', 'gas': 71503, 'depth': 1, 'stack': ['0xffffffff']}\n",
      "=================== Trace Tree =====================\n",
      "[Meta Info]  TxHash: 0xed2e82bb59e2ea39bfdc7d08ae2f7fcad7200e00163f6e3440b9a5d72fc3ef5d   tx.origin: 0x710295b5f326c2e47e6dd2e7f6b5b0f7c5ac2f24\n",
      "    [CALL] { value:0.00e+00 } 0x0000000000085d4780b73119b644ae5ecd22b376.(830E...0000) -> 1\n",
      "      [sload] 0x6e41e0fbe643dfdb6043698bf865aada82dc46b953f754a3468eaa272a362dc7: 0xb650eb28d35691dd1bd481325d40e65273844f9b\n",
      "        [DELEGATECALL] { gas:68985, value:0.00e+00 } 0xb650eb28d35691dd1bd481325d40e65273844f9b.0xa9059cbb(830e...dc8c) -> 1\n",
      "          [sload] 0xd9db5c8b748acb11ccfc8f1de90c21032834bbac7c7506aba03614eebc209a11: 0x0\n",
      "          [sload] 0xc06734647f3ef212fc58ea058fd795439a9e23dee75f4a6fdce5e660379b6b2e: 0x0\n",
      "          [sload] 0xd0d5ab6396a7546ff8fd2ace4291181e66a87c625f7c7a692a26032f794550e: 0x6d65d13dabfeccdc8c\n",
      "          [sstore] 0xd0d5ab6396a7546ff8fd2ace4291181e66a87c625f7c7a692a26032f794550e: 0x0\n",
      "          [sload] 0xec01746e8e90bd328487896e4a321e712fca6dc8e63894b574abdd7f604679cc: 0x0\n",
      "          [sstore] 0xec01746e8e90bd328487896e4a321e712fca6dc8e63894b574abdd7f604679cc: 0x6d65d13dabfeccdc8c\n",
      "\n",
      "=================== Decoded Trace Tree =====================\n",
      "[Meta Info]  TxHash: 0xed2e82bb59e2ea39bfdc7d08ae2f7fcad7200e00163f6e3440b9a5d72fc3ef5d   tx.origin: 0x710295b5f326c2e47e6dd2e7f6b5b0f7c5ac2f24\n",
      "    [CALL] { value:0.00e+00 } 0x0000000000085d4780b73119b644ae5ecd22b376.fallback(830E...0000) -> 1\n",
      "      [sload] 0x6e41e0fbe643dfdb6043698bf865aada82dc46b953f754a3468eaa272a362dc7: 0xb650eb28d35691dd1bd481325d40e65273844f9b\n",
      "        [DELEGATECALL] { gas:68985, value:0.00e+00 } 0xb650eb28d35691dd1bd481325d40e65273844f9b.transfer(['0x830eba02481b20f07cbb988312e23f3ade93cc1e', 2018031817111227915404]) -> [True]\n",
      "          [sload] 0x16[ CALLER ]: 0x0\n",
      "          [sload] 0x16[ msg.data[4:36] ]: 0x0\n",
      "          [sload] 0xd0d5ab6396a7546ff8fd2ace4291181e66a87c625f7c7a692a26032f794550e: 0x6d65d13dabfeccdc8c\n",
      "          [sstore] 0xd0d5ab6396a7546ff8fd2ace4291181e66a87c625f7c7a692a26032f794550e: 0x0\n",
      "          [sload] 0xe[ msg.data[4:36] ]: 0x0\n",
      "          [sstore] 0xe[ msg.data[4:36] ]: 0x6d65d13dabfeccdc8c\n",
      "\n"
     ]
    }
   ],
   "source": [
    "# Import necessary modules and functions\n",
    "from main import storeATrace, readATrace\n",
    "from parserPackage.parserGlobal import analyzeOneTxGlobal\n",
    "import os\n",
    "\n",
    "\n",
    "# Define the transaction hash you want to analyze\n",
    "txHash = \"0xed2e82bb59e2ea39bfdc7d08ae2f7fcad7200e00163f6e3440b9a5d72fc3ef5d\"\n",
    "\n",
    "# Step 1: Fetch and store a transaction trace\n",
    "storeATrace(txHash)\n",
    "\n",
    "# Step 2: Read the stored transaction trace\n",
    "temp = readATrace(txHash)\n",
    "\n",
    "# Optional: Print the first few logs to verify\n",
    "for ii in range(0, 10):\n",
    "    print(temp['structLogs'][ii])\n",
    "\n",
    "# Step 3: Parse the transaction trace\n",
    "print(\"=================== Trace Tree =====================\")\n",
    "SCRIPT_DIR = os.getcwd()  # Gets the current working directory\n",
    "path = os.path.join(SCRIPT_DIR, \"cache\", f\"{txHash}.json.gz\")\n",
    "metaTraceTree = analyzeOneTxGlobal(txHash, path)\n",
    "print(metaTraceTree.visualizeASE())\n",
    "\n",
    "# Step 4: Decode function ABI and Storage Accesses (dynamically track SHA3)\n",
    "print(\"=================== Decoded Trace Tree =====================\")\n",
    "metaTraceTree.decodeABIStorage(temp['structLogs'])\n",
    "print(metaTraceTree.visualizeASE_decoded())"
   ]
  },
  {
   "cell_type": "code",
   "execution_count": null,
   "metadata": {},
   "outputs": [],
   "source": []
  }
 ],
 "metadata": {
  "kernelspec": {
   "display_name": "Python 3 (ipykernel)",
   "language": "python",
   "name": "python3"
  },
  "language_info": {
   "codemirror_mode": {
    "name": "ipython",
    "version": 3
   },
   "file_extension": ".py",
   "mimetype": "text/x-python",
   "name": "python",
   "nbconvert_exporter": "python",
   "pygments_lexer": "ipython3",
   "version": "3.8.17"
  }
 },
 "nbformat": 4,
 "nbformat_minor": 2
}
